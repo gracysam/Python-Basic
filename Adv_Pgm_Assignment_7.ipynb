{
 "cells": [
  {
   "cell_type": "code",
   "execution_count": null,
   "metadata": {},
   "outputs": [],
   "source": [
    "'''1. Write a function that counts how many concentric layers a rug.\n",
    "Examples\n",
    "count_layers([\n",
    "\"AAAA\",\n",
    "\"ABBA\",\n",
    "\"AAAA\"\n",
    "]) ➞ 2\n",
    "count_layers([\n",
    "\"AAAAAAAAA\",\n",
    "\"ABBBBBBBA\",\n",
    "\"ABBAAABBA\",\n",
    "\"ABBBBBBBA\",\n",
    "\"AAAAAAAAA\"\n",
    "]) ➞ 3\n",
    "count_layers([\n",
    "\"AAAAAAAAAAA\",\n",
    "\"AABBBBBBBAA\",\n",
    "\"AABCCCCCBAA\",\n",
    "\"AABCAAACBAA\",\n",
    "\"AABCADACBAA\",\n",
    "\"AABCAAACBAA\",\n",
    "\"AABCCCCCBAA\",\n",
    "\"AABBBBBBBAA\",\n",
    "\"AAAAAAAAAAA\"\n",
    "]) ➞ 5'''"
   ]
  },
  {
   "cell_type": "code",
   "execution_count": 1,
   "metadata": {},
   "outputs": [
    {
     "name": "stdout",
     "output_type": "stream",
     "text": [
      "2\n",
      "3\n",
      "5\n"
     ]
    }
   ],
   "source": [
    "def count_layers(l):\n",
    "    return len(set(l)) #get only the unique layers and return it\n",
    "\n",
    "print(count_layers([\n",
    "\"AAAA\",\n",
    "\"ABBA\",\n",
    "\"AAAA\"\n",
    "]) )\n",
    "\n",
    "print(count_layers([\n",
    "\"AAAAAAAAA\",\n",
    "\"ABBBBBBBA\",\n",
    "\"ABBAAABBA\",\n",
    "\"ABBBBBBBA\",\n",
    "\"AAAAAAAAA\"\n",
    "]) )\n",
    "\n",
    "print(count_layers([\n",
    "\"AAAAAAAAAAA\",\n",
    "\"AABBBBBBBAA\",\n",
    "\"AABCCCCCBAA\",\n",
    "\"AABCAAACBAA\",\n",
    "\"AABCADACBAA\",\n",
    "\"AABCAAACBAA\",\n",
    "\"AABCCCCCBAA\",\n",
    "\"AABBBBBBBAA\",\n",
    "\"AAAAAAAAAAA\"\n",
    "]))"
   ]
  },
  {
   "cell_type": "code",
   "execution_count": null,
   "metadata": {},
   "outputs": [],
   "source": [
    "'''2. There are many different styles of music and many albums exhibit multiple\n",
    "styles. Create a function that takes a list of musical styles from albums and\n",
    "returns how many styles are unique.\n",
    "Examples\n",
    "unique_styles([\n",
    "\"Dub,Dancehall\",\n",
    "\"Industrial,Heavy Metal\",\n",
    "\"Techno,Dubstep\",\n",
    "\"Synth-pop,Euro-Disco\",\n",
    "\"Industrial,Techno,Minimal\"\n",
    "]) ➞ 9\n",
    "unique_styles([\n",
    "\n",
    "\"Soul\",\n",
    "\"House,Folk\",\n",
    "\"Trance,Downtempo,Big Beat,House\",\n",
    "\"Deep House\",\n",
    "\"Soul\"\n",
    "]) ➞ 7\n",
    "'''"
   ]
  },
  {
   "cell_type": "code",
   "execution_count": 2,
   "metadata": {},
   "outputs": [
    {
     "name": "stdout",
     "output_type": "stream",
     "text": [
      "9\n",
      "7\n"
     ]
    }
   ],
   "source": [
    "def unique_styles(l):\n",
    "    split_list = [] \n",
    "    for i  in l:\n",
    "        split_list.append(i.split(\",\"))\n",
    "    \n",
    "    \n",
    "    list_elements = []\n",
    "    for list_element in split_list:\n",
    "        for element in list_element:\n",
    "            list_elements.append(element)\n",
    "            \n",
    "    return(len(set(list_elements)))\n",
    "\n",
    "print(unique_styles([\n",
    "\"Dub,Dancehall\",\n",
    "\"Industrial,Heavy Metal\",\n",
    "\"Techno,Dubstep\",\n",
    "\"Synth-pop,Euro-Disco\",\n",
    "\"Industrial,Techno,Minimal\"\n",
    "]))\n",
    "\n",
    "print(unique_styles([\n",
    "\n",
    "\"Soul\",\n",
    "\"House,Folk\",\n",
    "\"Trance,Downtempo,Big Beat,House\",\n",
    "\"Deep House\",\n",
    "\"Soul\"\n",
    "]) )\n",
    "\n"
   ]
  },
  {
   "cell_type": "code",
   "execution_count": null,
   "metadata": {},
   "outputs": [],
   "source": [
    "'''3. Create a function that finds a target number in a list of prime numbers.\n",
    "Implement a binary search algorithm in your function. The target number will\n",
    "be from 2 through 97. If the target is prime then return \"yes\" else return \"no\".\n",
    "Examples\n",
    "primes = [2, 3, 5, 7, 11, 13, 17, 19, 23, 29, 31, 37, 41, 43, 47, 53, 59, 61, 67,\n",
    "71, 73, 79, 83, 89, 97]\n",
    "\n",
    "is_prime(primes, 3) ➞ \"yes\"\n",
    "is_prime(primes, 4) ➞ \"no\"\n",
    "is_prime(primes, 67) ➞ \"yes\"\n",
    "is_prime(primes, 36) ➞ \"no\"'''"
   ]
  },
  {
   "cell_type": "code",
   "execution_count": 3,
   "metadata": {},
   "outputs": [
    {
     "name": "stdout",
     "output_type": "stream",
     "text": [
      "Yes\n",
      "No\n",
      "Yes\n",
      "No\n"
     ]
    }
   ],
   "source": [
    "def is_prime(primes_list, search_element):\n",
    "    \n",
    "    len_of_list = len(primes_list)\n",
    "    \n",
    "    middle_element = primes[(len_of_list//2)]\n",
    "    \n",
    "    lower_array = primes[:(len_of_list//2)]\n",
    "    \n",
    "    upper_array = primes[(len_of_list//2):]\n",
    "    \n",
    "    if search_element >= middle_element:\n",
    "        check_prime = lambda search_element : 'Yes' if search_element in upper_array else 'No'\n",
    "    else:\n",
    "        check_prime = lambda search_element : 'Yes' if search_element in lower_array else 'No'\n",
    "    return check_prime(search_element)\n",
    "    \n",
    "    \n",
    "primes = [2, 3, 5, 7, 11, 13, 17, 19, 23, 29, 31, 37, 41, 43, 47, 53, 59, 61, 67,\n",
    "71, 73, 79, 83, 89, 97]\n",
    "\n",
    "print(is_prime(primes, 3))\n",
    "print(is_prime(primes, 4))\n",
    "print(is_prime(primes, 67))\n",
    "print(is_prime(primes, 36))"
   ]
  },
  {
   "cell_type": "code",
   "execution_count": null,
   "metadata": {},
   "outputs": [],
   "source": [
    "'''4. Create a function that takes in n, a, b and returns the number of positive\n",
    "values raised to the nth power that lie in the range [a, b], inclusive.\n",
    "Examples\n",
    "power_ranger(2, 49, 65) ➞ 2\n",
    "# 2 squares (n^2) lie between 49 and 65, 49 (7^2) and 64 (8^2)\n",
    "power_ranger(3, 1, 27) ➞ 3\n",
    "# 3 cubes (n^3) lie between 1 and 27, 1 (1^3), 8 (2^3) and 27 (3^3)\n",
    "power_ranger(10, 1, 5) ➞ 1\n",
    "# 1 value raised to the 10th power lies between 1 and 5, 1 (1^10)\n",
    "power_ranger(5, 31, 33) ➞ 1\n",
    "power_ranger(4, 250, 1300) ➞ 3\n",
    "'''"
   ]
  },
  {
   "cell_type": "code",
   "execution_count": 4,
   "metadata": {},
   "outputs": [
    {
     "name": "stdout",
     "output_type": "stream",
     "text": [
      "2\n",
      "3\n",
      "1\n",
      "1\n",
      "3\n"
     ]
    }
   ],
   "source": [
    "def power_ranger(power,min,max):\n",
    "    \n",
    "    count = 0\n",
    "    \n",
    "    i = 1\n",
    "    \n",
    "    while pow(i,power) <= max:\n",
    "        if pow(i,power) >= min:\n",
    "            count += 1\n",
    "        i += 1\n",
    "    return count\n",
    "        \n",
    "print(power_ranger(2, 49, 65))\n",
    "print(power_ranger(3, 1, 27))\n",
    "print(power_ranger(10, 1, 5))\n",
    "print(power_ranger(5, 31, 33))\n",
    "print(power_ranger(4, 250, 1300))"
   ]
  },
  {
   "cell_type": "code",
   "execution_count": null,
   "metadata": {},
   "outputs": [],
   "source": [
    "'''5. Given a number, return the difference between the maximum and minimum\n",
    "numbers that can be formed when the digits are rearranged.\n",
    "Examples\n",
    "rearranged_difference(972882) ➞ 760833\n",
    "# 988722 - 227889 = 760833\n",
    "rearranged_difference(3320707) ➞ 7709823\n",
    "# 7733200 - 23377 = 7709823\n",
    "rearranged_difference(90010) ➞ 90981'''"
   ]
  },
  {
   "cell_type": "code",
   "execution_count": 5,
   "metadata": {},
   "outputs": [
    {
     "name": "stdout",
     "output_type": "stream",
     "text": [
      "760833\n",
      "7709823\n",
      "90981\n"
     ]
    }
   ],
   "source": [
    "def rearranged_difference(num):\n",
    "    \n",
    "    number = str(num)\n",
    "    \n",
    "    small_num = ''.join(sorted(number))\n",
    "    \n",
    "    big_num = small_num[::-1]\n",
    "    \n",
    "    big_num = int(big_num)\n",
    "    \n",
    "    small_num = int(small_num)\n",
    "    \n",
    "    diff = big_num - small_num\n",
    "\n",
    "    return diff\n",
    "\n",
    "print(rearranged_difference(972882))\n",
    "print(rearranged_difference(3320707))\n",
    "print(rearranged_difference(90010))"
   ]
  }
 ],
 "metadata": {
  "kernelspec": {
   "display_name": "Python 3",
   "language": "python",
   "name": "python3"
  },
  "language_info": {
   "codemirror_mode": {
    "name": "ipython",
    "version": 3
   },
   "file_extension": ".py",
   "mimetype": "text/x-python",
   "name": "python",
   "nbconvert_exporter": "python",
   "pygments_lexer": "ipython3",
   "version": "3.7.0"
  }
 },
 "nbformat": 4,
 "nbformat_minor": 2
}
