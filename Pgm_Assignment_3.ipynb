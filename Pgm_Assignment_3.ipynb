{
 "cells": [
  {
   "cell_type": "code",
   "execution_count": null,
   "metadata": {},
   "outputs": [],
   "source": [
    "#Write a Python Program to Check if a Number is Positive, Negative or Zero?\n",
    "\n",
    "def check_num(a):\n",
    "    if a > 0:\n",
    "        print(\"Its a positive number\")\n",
    "    elif a < 0:\n",
    "        print(\"Its a negative number\")\n",
    "    else:\n",
    "        print(\"Its zero\")\n",
    "\n",
    "a = int(input(\"Enter a number: \"))\n",
    "check_num(a)"
   ]
  },
  {
   "cell_type": "code",
   "execution_count": null,
   "metadata": {},
   "outputs": [],
   "source": [
    "#Write a Python Program to Check if a Number is Odd or Even?\n",
    "\n",
    "def check_odd_even(a):\n",
    "    if a % 2 == 0:\n",
    "        print(\"The number is even\")\n",
    "    else:\n",
    "        print(\"The number is odd\")\n",
    "\n",
    "a = int(input(\"Enter a number: \"))\n",
    "check_odd_even(a)"
   ]
  },
  {
   "cell_type": "code",
   "execution_count": null,
   "metadata": {},
   "outputs": [],
   "source": [
    "#Write a Python Program to Check Leap Year?\n",
    "\n",
    "def check_leap_year(year):\n",
    "    if ((year % 400 == 0) or \n",
    "        (year % 100 != 0) and\n",
    "        (year % 4 == 0)):\n",
    "        print(\"Its a leap year\")\n",
    "    else:\n",
    "        print(\"Its not a leap year\")\n",
    "\n",
    "year = int(input(\"Enter a year to check if its leap year: \"))\n",
    "check_leap_year(year)\n"
   ]
  },
  {
   "cell_type": "code",
   "execution_count": null,
   "metadata": {},
   "outputs": [],
   "source": [
    "#Write a Python Program to Check Prime Number?\n",
    "\n",
    "\n",
    "def check_prime(n):\n",
    "    if n > 1:\n",
    "        for i in range(2,n):\n",
    "            if (n % i) == 0:\n",
    "                print(\"Its is not a prime number\")\n",
    "                print(\"Number {} is evenly divisible by {}\".format(n,i))\n",
    "                break\n",
    "        else:\n",
    "                print(\"Its a prime number\")\n",
    "    else:\n",
    "        print(\"Numbers less than 1 are not prime\")\n",
    "\n",
    "n = int(input(\"Enter a number: \"))\n",
    "check_prime(n)\n",
    "            "
   ]
  },
  {
   "cell_type": "code",
   "execution_count": null,
   "metadata": {},
   "outputs": [],
   "source": [
    "# Write a Python Program to Print all Prime Numbers in an Interval of 1-10000?\n",
    "print(\"Printing prime numbers between 2 and 10000\")\n",
    "for n in range(2,10000):\n",
    "    if n > 1:\n",
    "        for i in range(2,n):\n",
    "            if (n % i) == 0:\n",
    "                break\n",
    "        else:\n",
    "                print(n)"
   ]
  }
 ],
 "metadata": {
  "kernelspec": {
   "display_name": "Python 3",
   "language": "python",
   "name": "python3"
  },
  "language_info": {
   "codemirror_mode": {
    "name": "ipython",
    "version": 3
   },
   "file_extension": ".py",
   "mimetype": "text/x-python",
   "name": "python",
   "nbconvert_exporter": "python",
   "pygments_lexer": "ipython3",
   "version": "3.7.0"
  }
 },
 "nbformat": 4,
 "nbformat_minor": 2
}
