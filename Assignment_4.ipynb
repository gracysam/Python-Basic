{
 "cells": [
  {
   "cell_type": "code",
   "execution_count": null,
   "metadata": {},
   "outputs": [],
   "source": [
    "1. What exactly is []?\n",
    "It is a list datastructure with a datatype list which is a ordered sequence of elements of\n",
    "different datatypes Int, str, Float, Bool etc.\n",
    "\n",
    "Above is a empty list."
   ]
  },
  {
   "cell_type": "code",
   "execution_count": null,
   "metadata": {},
   "outputs": [],
   "source": [
    "2. In a list of values stored in a variable called spam, \n",
    "how would you assign the value 'hello' as the third value? (Assume [2, 4, 6, 8, 10] are in spam.)\n",
    "\n",
    "spam = [2,4,6,8,10]\n",
    "spam[2] = \"hello\"\n",
    "spam\n",
    "\n"
   ]
  },
  {
   "cell_type": "code",
   "execution_count": null,
   "metadata": {},
   "outputs": [],
   "source": [
    "Let's pretend the spam includes the list ['a', 'b', 'c', 'd'] for the next three queries.\n",
    "3. What is the value of spam[int(int('3' * 2) / 11)]? ==> spam[3] ==> 'd'\n",
    "4. What is the value of spam[-1]? ==> last element ==> 'd'\n",
    "5. What is the value of spam[:2]? ==> ['a', 'b']"
   ]
  },
  {
   "cell_type": "code",
   "execution_count": null,
   "metadata": {},
   "outputs": [],
   "source": [
    "Let's pretend bacon has the list [3.14, 'cat', 11, 'cat', True] for the next three questions.\n",
    "\n",
    "6. What is the value of bacon.index('cat')? --> 1 (returns only first occurence)\n",
    "\n",
    "7. How does bacon.append(99) change the look of the list value in bacon? --> adds the element 99 to the end of the list\n",
    "[3.14, 'cat', 11, 'cat', True, 99]\n",
    "\n",
    "8. How does bacon.remove('cat') change the look of the list in bacon? --> Removes the first occurenence of 'cat' element from \n",
    "the list [3.14, 11, 'cat', True]"
   ]
  },
  {
   "cell_type": "code",
   "execution_count": null,
   "metadata": {},
   "outputs": [],
   "source": [
    "9. What are the list concatenation and list replication operators?\n",
    "Same as string concatenation and replication operators\n",
    "\n",
    "List concatenation - +\n",
    "\n",
    "l = [1,2]\n",
    "l1 = [3,4]\n",
    "l+l1\n",
    "\n",
    "[1, 2, 3, 4]\n",
    "\n",
    "List replication - *\n",
    "\n",
    "l*3 --> \n",
    "[1, 2, 1, 2, 1, 2]"
   ]
  },
  {
   "cell_type": "code",
   "execution_count": null,
   "metadata": {},
   "outputs": [],
   "source": [
    "10. What is difference between the list methods append() and insert()?\n",
    "\n",
    "append(element) - adds the element to the end of the list\n",
    "insert(index, element) - inserts the element in a specified index"
   ]
  },
  {
   "cell_type": "code",
   "execution_count": null,
   "metadata": {},
   "outputs": [],
   "source": [
    "11. What are the two methods for removing items from a list?\n",
    "\n",
    "remove(element) - removes the first occurence if there are repetitive elements\n",
    "pop() - removes the last element from the list\n",
    "pop(index) - removes the element in the specified index"
   ]
  },
  {
   "cell_type": "code",
   "execution_count": null,
   "metadata": {},
   "outputs": [],
   "source": [
    "12. Describe how list values and string values are identical.\n",
    "\n",
    "Both list and String are mutable data types with ordered collection of elements.\n",
    "\n",
    "For string the elements are only of string datatype. For list the elements could be of multiple datatypes.\n",
    "\n",
    "The string operations such as concatenation, replication, slicing can be done in \n",
    "the list as well."
   ]
  },
  {
   "cell_type": "code",
   "execution_count": null,
   "metadata": {},
   "outputs": [],
   "source": [
    "13. What's the difference between tuples and lists?\n",
    "\n",
    "Tuples are like list with sequence of elements of any datatype. Represented using paranthesis (),\n",
    "whereas list use square brackets\n",
    "\n",
    "The key difference is the mutability.\n",
    "\n",
    "Tuples are immutable - its contents can't be changed after the tuple is created. Slicing, concatenation, replication can be \n",
    "done as lists.\n",
    "\n",
    "Lists are mutable - its contents can be changed after the list is created"
   ]
  },
  {
   "cell_type": "code",
   "execution_count": null,
   "metadata": {},
   "outputs": [],
   "source": [
    "14. How do you type a tuple value that only contains the integer 42?\n",
    "\n",
    "It has to be comma seperated.\n",
    "\n",
    "t=(45,)\n",
    "type(t)"
   ]
  },
  {
   "cell_type": "code",
   "execution_count": null,
   "metadata": {},
   "outputs": [],
   "source": [
    "15. How do you get a list value's tuple form? How do you get a tuple value's list form?\n",
    "\n",
    "tuple(listname)\n",
    "list(tuplename)"
   ]
  },
  {
   "cell_type": "code",
   "execution_count": null,
   "metadata": {},
   "outputs": [],
   "source": [
    "16. Variables that \"contain\" list values are not necessarily lists themselves. Instead, what do they contain?\n",
    "\n",
    "They contain the list references of the list values. For mutable datatypes such as list and dictionaries the variable references \n",
    "are stored and not the values.\n"
   ]
  },
  {
   "cell_type": "code",
   "execution_count": null,
   "metadata": {},
   "outputs": [],
   "source": [
    "17. How do you distinguish between copy.copy() and copy.deepcopy()?\n",
    "\n",
    "copy.copy() - shallow copy\n",
    "\n",
    "Shallow copy that constructs a new compound object and then populates it with references to the objects found in the original;\n",
    "Shallow copy is only one level deep. The copying process does not recurse and therefore \n",
    "does not create copies of the child objects, but instead populates with references to the already existing objects.\n",
    "\n",
    "copy.deepcopy() - Deep copy\n",
    "Deep copy makes an independent copy of a compound object (list, dictionary,) which constructs a new compound \n",
    "object and then, recursively, inserts copies into it of the objects found in the original;\n",
    "It takes more time to complete, as there are many more operations to be performed;\n"
   ]
  }
 ],
 "metadata": {
  "kernelspec": {
   "display_name": "Python 3",
   "language": "python",
   "name": "python3"
  },
  "language_info": {
   "codemirror_mode": {
    "name": "ipython",
    "version": 3
   },
   "file_extension": ".py",
   "mimetype": "text/x-python",
   "name": "python",
   "nbconvert_exporter": "python",
   "pygments_lexer": "ipython3",
   "version": "3.7.0"
  }
 },
 "nbformat": 4,
 "nbformat_minor": 2
}
