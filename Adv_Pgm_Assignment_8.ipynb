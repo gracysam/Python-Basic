{
 "cells": [
  {
   "cell_type": "code",
   "execution_count": null,
   "metadata": {},
   "outputs": [],
   "source": [
    "'''1. Given a sentence as txt, return True if any two adjacent words have this\n",
    "property: One word ends with a vowel, while the word immediately after\n",
    "begins with a vowel (a e i o u).\n",
    "Examples\n",
    "vowel_links(\"a very large appliance\") ➞ True\n",
    "vowel_links(\"go to edabit\") ➞ True\n",
    "vowel_links(\"an open fire\") ➞ False\n",
    "vowel_links(\"a sudden applause\") ➞ False'''"
   ]
  },
  {
   "cell_type": "code",
   "execution_count": 1,
   "metadata": {},
   "outputs": [
    {
     "name": "stdout",
     "output_type": "stream",
     "text": [
      "True\n",
      "True\n",
      "False\n",
      "False\n"
     ]
    }
   ],
   "source": [
    "def vowel_links(phrase):\n",
    "    \n",
    "    vowels = ['a' , 'e' , 'i' , 'o' , 'u']\n",
    "    \n",
    "    words = phrase.split()\n",
    "    \n",
    "    flag = False\n",
    "    \n",
    "    for i in range(0, len(words)-1):\n",
    "        \n",
    "        if words[i][-1] in vowels and words[i+1][0] in vowels:\n",
    "            flag = True\n",
    "        \n",
    "    return flag\n",
    "        \n",
    "        \n",
    "print(vowel_links(\"a very large appliance\"))\n",
    "\n",
    "print(vowel_links(\"go to edabit\"))\n",
    "\n",
    "print(vowel_links(\"an open fire\"))\n",
    "\n",
    "print(vowel_links(\"a sudden applause\"))"
   ]
  },
  {
   "cell_type": "code",
   "execution_count": null,
   "metadata": {},
   "outputs": [],
   "source": [
    "'''2. You are given three inputs: a string, one letter, and a second letter.\n",
    "Write a function that returns True if every instance of the first letter occurs\n",
    "before every instance of the second letter.\n",
    "Examples\n",
    "first_before_second(\"a rabbit jumps joyfully\", \"a\", \"j\") ➞ True\n",
    "# Every instance of \"a\" occurs before every instance of \"j\".\n",
    "first_before_second(\"knaves knew about waterfalls\", \"k\", \"w\") ➞ True\n",
    "first_before_second(\"happy birthday\", \"a\", \"y\") ➞ False\n",
    "# The \"a\" in \"birthday\" occurs after the \"y\" in \"happy\".\n",
    "first_before_second(\"precarious kangaroos\", \"k\", \"a\") ➞ False\n",
    "'''"
   ]
  },
  {
   "cell_type": "code",
   "execution_count": 2,
   "metadata": {},
   "outputs": [
    {
     "name": "stdout",
     "output_type": "stream",
     "text": [
      "True\n",
      "True\n",
      "False\n",
      "False\n"
     ]
    }
   ],
   "source": [
    "def first_before_second(phrase,first,second):\n",
    "    \n",
    "    first_pos = phrase.index(first)\n",
    "    \n",
    "    second_pos = phrase.index(second)\n",
    "    \n",
    "    if phrase.find(first,second_pos) == -1: #first char not found after the first index of second char\n",
    "        return True\n",
    "    else:\n",
    "        return False\n",
    "    \n",
    "    \n",
    "print(first_before_second(\"a rabbit jumps joyfully\", \"a\", \"j\"))\n",
    "print(first_before_second(\"knaves knew about waterfalls\", \"k\", \"w\")) \n",
    "\n",
    "print(first_before_second(\"happy birthday\", \"a\", \"y\"))\n",
    "print(first_before_second(\"precarious kangaroos\", \"k\", \"a\"))\n",
    "    "
   ]
  },
  {
   "cell_type": "code",
   "execution_count": null,
   "metadata": {},
   "outputs": [],
   "source": [
    "'''3. Create a function that returns the characters from a list or string r on odd or\n",
    "even positions, depending on the specifier s. The specifier will be \"odd\" for\n",
    "items on odd positions (1, 3, 5, ...) and \"even\" for items on even positions (2,\n",
    "4, 6, ...).\n",
    "Examples\n",
    "char_at_pos([2, 4, 6, 8, 10], \"even\") ➞ [4, 8]\n",
    "# 4 & 8 occupy the 2nd & 4th positions\n",
    "char_at_pos(\"EDABIT\", \"odd\") ➞ \"EAI\"\n",
    "# \"E\", \"A\" and \"I\" occupy the 1st, 3rd and 5th positions\n",
    "\n",
    "char_at_pos([\"A\", \"R\", \"B\", \"I\", \"T\", \"R\", \"A\", \"R\", \"I\", \"L\", \"Y\"], \"odd\") ➞ [\"A\",\n",
    "\"B\", \"T\", \"A\", \"I\", \"Y\"]'''"
   ]
  },
  {
   "cell_type": "code",
   "execution_count": 3,
   "metadata": {},
   "outputs": [
    {
     "name": "stdout",
     "output_type": "stream",
     "text": [
      "[4, 8]\n",
      "['E', 'A', 'I']\n",
      "['A', 'B', 'T', 'A', 'I', 'Y']\n"
     ]
    }
   ],
   "source": [
    "def char_at_pos(l,specifier):\n",
    "    \n",
    "    new_l = []\n",
    "    \n",
    "    if specifier == 'odd':\n",
    "        for i in range(0,len(l),2):\n",
    "            new_l.append(l[i])\n",
    "    elif specifier == 'even':\n",
    "        for i in range(1,len(l),2):\n",
    "            new_l.append(l[i])\n",
    "    return new_l\n",
    "\n",
    "print(char_at_pos([2, 4, 6, 8, 10], \"even\"))\n",
    "\n",
    "print(char_at_pos(\"EDABIT\", \"odd\"))\n",
    "\n",
    "print(char_at_pos([\"A\", \"R\", \"B\", \"I\", \"T\", \"R\", \"A\", \"R\", \"I\", \"L\", \"Y\"], \"odd\"))\n",
    "\n",
    "        "
   ]
  },
  {
   "cell_type": "code",
   "execution_count": null,
   "metadata": {},
   "outputs": [],
   "source": [
    "'''4. Write a function that returns the greatest common divisor of all list\n",
    "elements. If the greatest common divisor is 1, return 1.\n",
    "Examples\n",
    "GCD([10, 20, 40]) ➞ 10\n",
    "GCD([1, 2, 3, 100]) ➞ 1\n",
    "GCD([1024, 192, 2048, 512]) ➞ 64\n",
    "'''"
   ]
  },
  {
   "cell_type": "code",
   "execution_count": 4,
   "metadata": {},
   "outputs": [
    {
     "name": "stdout",
     "output_type": "stream",
     "text": [
      "10\n",
      "1\n",
      "64\n"
     ]
    }
   ],
   "source": [
    "def hcf_of_nums(a,b):\n",
    "    for i in range(1,min(a,b)+1):\n",
    "        if a % i == 0 and b % i == 0:\n",
    "            hcf = i\n",
    "    return hcf\n",
    "\n",
    "def GCD(l):\n",
    "    \n",
    "    hcf = hcf_of_nums(l[0],l[1])\n",
    "\n",
    "    for i in range(2,len(l)):\n",
    "        hcf=hcf_of_nums(hcf,l[i])\n",
    "    \n",
    "    return hcf\n",
    "\n",
    "print(GCD([10, 20, 40]))\n",
    "\n",
    "print(GCD([1, 2, 3, 100]))\n",
    "\n",
    "print(GCD([1024, 192, 2048, 512]))"
   ]
  },
  {
   "cell_type": "code",
   "execution_count": null,
   "metadata": {},
   "outputs": [],
   "source": [
    "'''5. A number/string is a palindrome if the digits/characters are the same when\n",
    "read both forward and backward. Examples include \"racecar\" and 12321.\n",
    "Given a positive number n, check if n or the binary representation of n is\n",
    "palindromic. Return the following:\n",
    "- \"Decimal only.\" if only n is a palindrome.\n",
    "- \"Binary only.\" if only the binary representation of n is a palindrome.\n",
    "- \"Decimal and binary.\" if both are palindromes.\n",
    "- \"Neither!\" if neither are palindromes.\n",
    "Examples\n",
    "palindrome_type(1306031) ➞ \"Decimal only.\"\n",
    "# decimal = 1306031\n",
    "# binary = \"100111110110110101111\"\n",
    "palindrome_type(427787) ➞ \"Binary only.\"\n",
    "# decimal = 427787\n",
    "# binary = \"1101000011100001011\"\n",
    "palindrome_type(313) ➞ \"Decimal and binary.\"\n",
    "# decimal = 313\n",
    "# binary = 100111001\n",
    "palindrome_type(934) ➞ \"Neither!\"\n",
    "# decimal = 934\n",
    "# binary = \"1110100110\"'''"
   ]
  },
  {
   "cell_type": "code",
   "execution_count": 5,
   "metadata": {},
   "outputs": [
    {
     "name": "stdout",
     "output_type": "stream",
     "text": [
      "Decimal = 1306031\n",
      "Binary = 100111110110110101111\n",
      "Decimal Only \n",
      "\n",
      "Decimal = 427787\n",
      "Binary = 1101000011100001011\n",
      "Binary Only \n",
      "\n",
      "Decimal = 313\n",
      "Binary = 100111001\n",
      "Decimal and Binary \n",
      "\n",
      "Decimal = 934\n",
      "Binary = 1110100110\n",
      "Neither \n",
      "\n"
     ]
    }
   ],
   "source": [
    "def palindrome_type(num):\n",
    "    \n",
    "    str_num = str(num)\n",
    "    \n",
    "    rev_num = str_num[::-1]\n",
    "    \n",
    "    \n",
    "    #Binary conversion and reversing\n",
    "    \n",
    "    bin_num = bin(num).replace(\"0b\",'')\n",
    "    \n",
    "    str_bin_num = str(bin_num)\n",
    "    \n",
    "    rev_bin_num = str_bin_num[::-1]\n",
    "    \n",
    "    print(\"Decimal =\", str_num)\n",
    "    \n",
    "    print(\"Binary =\", str_bin_num )\n",
    "    \n",
    "    if str_num == rev_num and str_bin_num == rev_bin_num:\n",
    "        return \"Decimal and Binary\"\n",
    "    elif str_num == rev_num:\n",
    "        return \"Decimal Only\"\n",
    "    elif str_bin_num == rev_bin_num:\n",
    "        return \"Binary Only\"\n",
    "    else:\n",
    "        return \"Neither\"\n",
    "    \n",
    "print(palindrome_type(1306031),'\\n')\n",
    "\n",
    "print(palindrome_type(427787),'\\n')\n",
    "\n",
    "print(palindrome_type(313),'\\n')\n",
    "\n",
    "print(palindrome_type(934),'\\n')\n",
    "    "
   ]
  }
 ],
 "metadata": {
  "kernelspec": {
   "display_name": "Python 3",
   "language": "python",
   "name": "python3"
  },
  "language_info": {
   "codemirror_mode": {
    "name": "ipython",
    "version": 3
   },
   "file_extension": ".py",
   "mimetype": "text/x-python",
   "name": "python",
   "nbconvert_exporter": "python",
   "pygments_lexer": "ipython3",
   "version": "3.7.0"
  }
 },
 "nbformat": 4,
 "nbformat_minor": 2
}
