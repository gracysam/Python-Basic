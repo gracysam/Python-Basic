{
 "cells": [
  {
   "cell_type": "code",
   "execution_count": 2,
   "metadata": {},
   "outputs": [
    {
     "name": "stdout",
     "output_type": "stream",
     "text": [
      "Enter the first number: 99\n",
      "Enter the second number: 54\n",
      "The Highest Common Factor of numbers 99 and  54 is 9: \n"
     ]
    }
   ],
   "source": [
    "#2. Write a Python Program to Find HCF - Highest Common Factor?\n",
    "\n",
    "def hcf_of_nums(a,b):\n",
    "    for i in range(1,min(a,b)+1):\n",
    "        if a % i == 0 and b % i == 0:\n",
    "            hcf = i\n",
    "    return hcf\n",
    "\n",
    "a = int(input(\"Enter the first number: \"))\n",
    "b = int(input(\"Enter the second number: \"))\n",
    "\n",
    "hcf = hcf_of_nums(a,b)\n",
    "\n",
    "print(\"The Highest Common Factor of numbers {} and  {} is {}: \".format(a,b,hcf))"
   ]
  },
  {
   "cell_type": "code",
   "execution_count": 3,
   "metadata": {},
   "outputs": [
    {
     "name": "stdout",
     "output_type": "stream",
     "text": [
      "Enter the first number: 99\n",
      "Enter the second number: 54\n",
      "The Least Common Multiple of numbers 99 and  54 is 594.0: \n"
     ]
    }
   ],
   "source": [
    "# 1. Write a Python Program to Find LCM - Least Common Multiple?\n",
    "\n",
    "a = int(input(\"Enter the first number: \"))\n",
    "b = int(input(\"Enter the second number: \"))\n",
    "\n",
    "hcf = hcf_of_nums(a,b)\n",
    "\n",
    "lcm = a*b/hcf\n",
    "\n",
    "print(\"The Least Common Multiple of numbers {} and  {} is {}: \".format(a,b,lcm))"
   ]
  },
  {
   "cell_type": "code",
   "execution_count": 6,
   "metadata": {},
   "outputs": [
    {
     "name": "stdout",
     "output_type": "stream",
     "text": [
      "99\n",
      "The binary value of 99 is 0b1100011 \n",
      "The octal value of 99 is 0o143 \n",
      "The hexadecimal value of 99 is 0x63 \n"
     ]
    }
   ],
   "source": [
    "#3. Write a Python Program to Convert Decimal to Binary, Octal and Hexadecimal?\n",
    "\n",
    "n = int(input())\n",
    "b = bin(n)\n",
    "o = oct(n)\n",
    "h = hex(n)\n",
    "print(\"The binary value of {} is {} \".format(n,b))\n",
    "print(\"The octal value of {} is {} \".format(n,o))\n",
    "print(\"The hexadecimal value of {} is {} \".format(n,h))\n"
   ]
  },
  {
   "cell_type": "code",
   "execution_count": 7,
   "metadata": {},
   "outputs": [
    {
     "name": "stdout",
     "output_type": "stream",
     "text": [
      "Enter a character to find its ASCII value: a\n",
      "The ASCII value of a is 97\n"
     ]
    }
   ],
   "source": [
    "#4. Write a Python Program To Find ASCII value of a character?\n",
    "\n",
    "a = input(\"Enter a character to find its ASCII value: \")\n",
    "\n",
    "asc = ord(a)\n",
    "\n",
    "print(\"The ASCII value of {} is {}\".format(a, asc))\n"
   ]
  },
  {
   "cell_type": "code",
   "execution_count": 8,
   "metadata": {},
   "outputs": [
    {
     "name": "stdout",
     "output_type": "stream",
     "text": [
      "Enter the first number: 7\n",
      "Enter the second number: 8\n",
      "Enter the operation to be performed +, -, *, /: *\n",
      "The result of 7 * 8 = 56\n"
     ]
    }
   ],
   "source": [
    "#5. Write a Python Program to Make a Simple Calculator with 4 basic mathematical operations?\n",
    "\n",
    "\n",
    "def calc(a, b, op):\n",
    "    if op == \"+\":\n",
    "        return a+b\n",
    "    elif op == \"-\":\n",
    "        return a-b\n",
    "    elif op == \"*\":\n",
    "        return a*b\n",
    "    elif op == \"/\":\n",
    "        return a/b\n",
    "    else:\n",
    "        return(\"Operator is invalid\")\n",
    "\n",
    "a = int(input(\"Enter the first number: \"))\n",
    "b = int(input(\"Enter the second number: \"))\n",
    "op = input('Enter the operation to be performed +, -, *, /: ')\n",
    "\n",
    "res = calc(a,b,op)\n",
    "\n",
    "print(\"The result of {} {} {} = {}\".format(a,op,b,res))"
   ]
  }
 ],
 "metadata": {
  "kernelspec": {
   "display_name": "Python 3",
   "language": "python",
   "name": "python3"
  },
  "language_info": {
   "codemirror_mode": {
    "name": "ipython",
    "version": 3
   },
   "file_extension": ".py",
   "mimetype": "text/x-python",
   "name": "python",
   "nbconvert_exporter": "python",
   "pygments_lexer": "ipython3",
   "version": "3.7.0"
  }
 },
 "nbformat": 4,
 "nbformat_minor": 2
}
