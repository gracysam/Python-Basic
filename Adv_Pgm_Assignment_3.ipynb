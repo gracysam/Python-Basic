{
 "cells": [
  {
   "cell_type": "code",
   "execution_count": null,
   "metadata": {},
   "outputs": [],
   "source": [
    "'''1. Create a function to perform basic arithmetic operations that includes addition, subtraction, multiplication and division on a string number (e.g. \"12 + 24\" or \"23 - 21\" or \"12 // 12\" or \"12 * 21\").\n",
    "\n",
    "Here, we have 1 followed by a space, operator followed by another space and 2. For the challenge, we are going to have only two numbers between 1 valid operator. The return value should be a number.\n",
    "\n",
    "eval() is not allowed. In case of division, whenever the second number equals \"0\" return -1.\n",
    "\n",
    "For example:\n",
    "\n",
    "\"15 // 0\"  ➞ -1\n",
    "\n",
    "Examples\n",
    "\n",
    "arithmetic_operation(\"12 + 12\") ➞ 24 // 12 + 12 = 24\n",
    "\n",
    "arithmetic_operation(\"12 - 12\") ➞ 24 // 12 - 12 = 0\n",
    "\n",
    "arithmetic_operation(\"12 * 12\") ➞ 144 // 12 * 12 = 144\n",
    "\n",
    "arithmetic_operation(\"12 // 0\") ➞ -1 // 12 / 0 = -1\n",
    "'''"
   ]
  },
  {
   "cell_type": "code",
   "execution_count": 1,
   "metadata": {},
   "outputs": [
    {
     "name": "stdout",
     "output_type": "stream",
     "text": [
      "Addition result       : 24\n",
      "Sutraction result     : 0\n",
      "Multiplication result : 144\n",
      "Division result       : 1\n",
      "Division by zero      : -1\n"
     ]
    }
   ],
   "source": [
    "def arithmetic_operation(parm):\n",
    "    l = parm.split( )\n",
    "    num1 = l[0]\n",
    "    op   = l[1]\n",
    "    num2 = l[2]\n",
    "    \n",
    "    if op == \"+\":\n",
    "        res = int(num1) + int(num2)\n",
    "    elif op == \"-\":\n",
    "        res = int(num1) - int(num2)\n",
    "    elif op == \"*\":\n",
    "        res = int(num1) * int(num2)\n",
    "    elif op == \"//\":\n",
    "        if int(num2) == 0:\n",
    "            res = -1\n",
    "        else:\n",
    "            res = int(num1) // int(num2)\n",
    "    return res\n",
    "        \n",
    "add_nums = arithmetic_operation(\"12 + 12\")\n",
    "sub_nums = arithmetic_operation(\"12 - 12\")\n",
    "mul_nums = arithmetic_operation(\"12 * 12\")\n",
    "div_nums = arithmetic_operation(\"12 // 12\")\n",
    "div_zero = arithmetic_operation(\"12 // 0\")\n",
    "\n",
    "print(\"Addition result       :\", add_nums)\n",
    "print(\"Sutraction result     :\", sub_nums)   \n",
    "print(\"Multiplication result :\", mul_nums)\n",
    "print(\"Division result       :\", div_nums)\n",
    "print(\"Division by zero      :\", div_zero)"
   ]
  },
  {
   "cell_type": "code",
   "execution_count": null,
   "metadata": {},
   "outputs": [],
   "source": [
    "'''2. Write a function that takes the coordinates of three points in the form of a 2d array and returns the perimeter of the triangle. The given points are the vertices of a triangle on a two-dimensional plane.\n",
    "\n",
    "Examples\n",
    "\n",
    "perimeter( [ [15, 7], [5, 22], [11, 1] ] ) ➞ 47.08\n",
    "\n",
    "perimeter( [ [0, 0], [0, 1], [1, 0] ] ) ➞ 3.42\n",
    "\n",
    "perimeter( [ [-10, -10], [10, 10 ], [-10, 10] ] ) ➞ 68.28'''"
   ]
  },
  {
   "cell_type": "code",
   "execution_count": 2,
   "metadata": {},
   "outputs": [
    {
     "name": "stdout",
     "output_type": "stream",
     "text": [
      "47.08\n",
      "3.41\n",
      "68.28\n"
     ]
    }
   ],
   "source": [
    "import math\n",
    "\n",
    "def perimeter(coords):\n",
    "    \n",
    "    a,b,c = coords\n",
    "    \n",
    "    a1, a2 = a\n",
    "    b1, b2 = b\n",
    "    c1, c2 = c\n",
    "    \n",
    "    ab = math.sqrt((b1-a1)**2 + (b2-a2)**2)\n",
    "    bc = math.sqrt((c1-b1)**2 + (c2-b2)**2)\n",
    "    ac = math.sqrt((c1-a1)**2 + (c2-a2)**2)\n",
    "    \n",
    "    res = ab + bc + ac\n",
    "    \n",
    "    return \"{:.2f}\".format(res)\n",
    "\n",
    "   \n",
    "print(perimeter( [ [15, 7], [5, 22], [11, 1] ] ))\n",
    "\n",
    "print(perimeter( [ [0, 0], [0, 1], [1, 0] ] ))\n",
    "\n",
    "print(perimeter( [ [-10, -10], [10, 10 ], [-10, 10] ] ))"
   ]
  },
  {
   "cell_type": "code",
   "execution_count": null,
   "metadata": {},
   "outputs": [],
   "source": [
    "'''3. A city skyline can be represented as a 2-D list with 1s representing buildings. In the example below, \n",
    "the height of the tallest building is 4 (second-most right column).\n",
    "\n",
    "[[0, 0, 0, 0, 0, 0],\n",
    "[0, 0, 0, 0, 1, 0],\n",
    "[0, 0, 1, 0, 1, 0],\n",
    "[0, 1, 1, 1, 1, 0],\n",
    "[1, 1, 1, 1, 1, 1]]\n",
    "\n",
    "Create a function that takes a skyline (2-D list of 0's and 1's) and returns the height of the tallest skyscraper.\n",
    "\n",
    "Examples\n",
    "\n",
    "tallest_skyscraper([\n",
    "  [0, 0, 0, 0],\n",
    "  [0, 1, 0, 0],\n",
    "  [0, 1, 1, 0],\n",
    "  [1, 1, 1, 1]\n",
    "]) ➞ 3\n",
    "\n",
    "tallest_skyscraper([\n",
    "  [0, 1, 0, 0],\n",
    "  [0, 1, 0, 0],\n",
    "  [0, 1, 1, 0],\n",
    "  [1, 1, 1, 1]\n",
    "]) ➞ 4\n",
    "\n",
    "tallest_skyscraper([\n",
    "  [0, 0, 0, 0],\n",
    "  [0, 0, 0, 0],\n",
    "  [1, 1, 1, 0],\n",
    "  [1, 1, 1, 1]\n",
    "]) ➞ 2'''"
   ]
  },
  {
   "cell_type": "code",
   "execution_count": 3,
   "metadata": {},
   "outputs": [
    {
     "name": "stdout",
     "output_type": "stream",
     "text": [
      "3\n",
      "4\n",
      "2\n"
     ]
    }
   ],
   "source": [
    "import numpy as np\n",
    "\n",
    "def tallest_skyscraper(l):\n",
    "    arr     = np.asarray(l)\n",
    "    max_col = list(arr.max(axis=1)) # find the column that has the highest number of 1s\n",
    "    \n",
    "    height = 0\n",
    "    for i in max_col:\n",
    "        height += i\n",
    "    \n",
    "    return height\n",
    "\n",
    "print(tallest_skyscraper([\n",
    "  [0, 0, 0, 0],\n",
    "  [0, 1, 0, 0],\n",
    "  [0, 1, 1, 0],\n",
    "  [1, 1, 1, 1]\n",
    "])) \n",
    "\n",
    "print(tallest_skyscraper([\n",
    "  [0, 1, 0, 0],\n",
    "  [0, 1, 0, 0],\n",
    "  [0, 1, 1, 0],\n",
    "  [1, 1, 1, 1]\n",
    "]))\n",
    "\n",
    "print(tallest_skyscraper([\n",
    "  [0, 0, 0, 0],\n",
    "  [0, 0, 0, 0],\n",
    "  [1, 1, 1, 0],\n",
    "  [1, 1, 1, 1]\n",
    "]))"
   ]
  },
  {
   "cell_type": "code",
   "execution_count": null,
   "metadata": {},
   "outputs": [],
   "source": [
    "'''4. A financial institution provides professional services to banks and claims charges from the customers \n",
    "\n",
    "based on the number of man-days provided. Internally, it has set a scheme to motivate and reward staff to \n",
    "meet and exceed targeted billable utilization and revenues by paying a bonus for each day claimed from \n",
    "customers in excess of a threshold target.\n",
    "\n",
    "This quarterly scheme is calculated with a threshold target of 32 days per quarter, and the incentive \n",
    "payment for each billable day in excess of such threshold target is shown as follows:\n",
    "\n",
    "Days\t                             Bonus\n",
    "0 to 32 days\t                   Zero\n",
    "33 to 40 days\t         SGD$325 per billable day\n",
    "41 to 48 days\t         SGD$550 per billable day\n",
    "Greater than 48 days      SGD$600 per billable day\n",
    "\n",
    "Please note that incentive payment is calculated progressively. As an example, \n",
    "if an employee reached total billable days of 45 in a quarter, his/her incentive payment is computed as follows:\n",
    "\n",
    "32*0 + 8*325 + 5*550 = 5350\n",
    "\n",
    "Write a function to read the billable days of an employee and return the bonus he/she has obtained in that quarter.\n",
    "\n",
    "Examples\n",
    "\n",
    "bonus(15) ➞ 0\n",
    "\n",
    "bonus(37) ➞ 1625\n",
    "\n",
    "bonus(50) ➞ 8200'''"
   ]
  },
  {
   "cell_type": "code",
   "execution_count": 4,
   "metadata": {},
   "outputs": [
    {
     "name": "stdout",
     "output_type": "stream",
     "text": [
      "0\n",
      "1625\n",
      "8200\n",
      "5350\n"
     ]
    }
   ],
   "source": [
    "def bonus(days):\n",
    "    \n",
    "    bonus_amt = 0\n",
    "    \n",
    "    while days > 0:\n",
    "        if days >=0 and days <= 32:\n",
    "            bonus_amt += 0\n",
    "            days = 0\n",
    "        if days >=33 and days <= 40:\n",
    "            days_gt_32 = days - 32\n",
    "            bonus_amt += 325 * days_gt_32\n",
    "            days =  days - days_gt_32\n",
    "        if days >=41 and days <= 48:\n",
    "            days_gt_40 = days - 40\n",
    "            bonus_amt += 550 * days_gt_40\n",
    "            days =  days - days_gt_40\n",
    "        if days > 48:\n",
    "            days_gt_48 = days - 48\n",
    "            bonus_amt += 600 * days_gt_48\n",
    "            days =  days - days_gt_48\n",
    "        continue\n",
    "        \n",
    "    return bonus_amt\n",
    "    \n",
    "print(bonus(15))\n",
    "print(bonus(37))\n",
    "print(bonus(50))\n",
    "print(bonus(45))\n",
    "    "
   ]
  },
  {
   "cell_type": "code",
   "execution_count": null,
   "metadata": {},
   "outputs": [],
   "source": [
    "'''5. A number is said to be Disarium if the sum of its digits raised to their respective positions is the number itself.\n",
    "\n",
    "Create a function that determines whether a number is a Disarium or not.\n",
    "\n",
    "Examples\n",
    "\n",
    "is_disarium(75) ➞ False\n",
    "# 7^1 + 5^2 = 7 + 25 = 32\n",
    "\n",
    "is_disarium(135) ➞ True\n",
    "# 1^1 + 3^2 + 5^3 = 1 + 9 + 125 = 135\n",
    "\n",
    "is_disarium(544) ➞ False\n",
    "\n",
    "is_disarium(518) ➞ True\n",
    "\n",
    "is_disarium(466) ➞ False\n",
    "\n",
    "is_disarium(8) ➞ True\n",
    "'''"
   ]
  },
  {
   "cell_type": "code",
   "execution_count": 5,
   "metadata": {},
   "outputs": [
    {
     "name": "stdout",
     "output_type": "stream",
     "text": [
      "False\n",
      "True\n",
      "False\n",
      "True\n",
      "False\n",
      "True\n"
     ]
    }
   ],
   "source": [
    "def is_disarium(num):\n",
    "    \n",
    "    num_str = list(str(num))\n",
    "    sum = 0\n",
    "    \n",
    "    for i in range(0, len(num_str)):\n",
    "        sum += int(num_str[i]) ** (i+1)\n",
    "    \n",
    "    if sum == num:\n",
    "        return True\n",
    "    else:\n",
    "        return False\n",
    "    \n",
    "print(is_disarium(75))\n",
    "print(is_disarium(135))\n",
    "print(is_disarium(544))\n",
    "print(is_disarium(518))\n",
    "print(is_disarium(466))\n",
    "print(is_disarium(8))\n",
    "    \n",
    "    "
   ]
  },
  {
   "cell_type": "code",
   "execution_count": null,
   "metadata": {},
   "outputs": [],
   "source": []
  }
 ],
 "metadata": {
  "kernelspec": {
   "display_name": "Python 3",
   "language": "python",
   "name": "python3"
  },
  "language_info": {
   "codemirror_mode": {
    "name": "ipython",
    "version": 3
   },
   "file_extension": ".py",
   "mimetype": "text/x-python",
   "name": "python",
   "nbconvert_exporter": "python",
   "pygments_lexer": "ipython3",
   "version": "3.7.0"
  }
 },
 "nbformat": 4,
 "nbformat_minor": 2
}
