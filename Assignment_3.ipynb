{
 "cells": [
  {
   "cell_type": "code",
   "execution_count": null,
   "metadata": {},
   "outputs": [],
   "source": [
    "1. Why are functions advantageous to have in your programs?\n",
    "\n",
    "\n",
    "Functions provide code reusability instead of redundant coding. The functions defined with parameters can be used to call \n",
    "the fucntions with different parameters multiple times.\n",
    "\n",
    "Functions provides modular programming where complex problem is decomposed to simpler pieces and improves the code clarity."
   ]
  },
  {
   "cell_type": "code",
   "execution_count": null,
   "metadata": {},
   "outputs": [],
   "source": [
    "2. When does the code in a function run: when it's specified or when it's called?\n",
    "    \n",
    "The code inside a function is executed only when the function is called.\n",
    "The function definition defines the operations that have to be performed inside a function.\n",
    "The function call executes the function.\n",
    "Without a function call, the function definition is dead inside the program."
   ]
  },
  {
   "cell_type": "code",
   "execution_count": null,
   "metadata": {},
   "outputs": [],
   "source": [
    "3. What statement creates a function?\n",
    "\n",
    "def - this statement defines a function name\n",
    "\n",
    "def function_name():\n",
    "    pass #to do nothing in a function"
   ]
  },
  {
   "cell_type": "code",
   "execution_count": null,
   "metadata": {},
   "outputs": [],
   "source": [
    "4. What is the difference between a function and a function call?\n",
    "The function definition defines the operations that have to be performed inside a function.\n",
    "\n",
    "def add_fn(a,b): #function definition\n",
    "    return a+b\n",
    "    \n",
    "The function call executes the function.\n",
    "\n",
    "add_fn(3,4)\n",
    "\n",
    "Without a function call, the function definition is dead inside the program."
   ]
  },
  {
   "cell_type": "code",
   "execution_count": null,
   "metadata": {},
   "outputs": [],
   "source": [
    "5. How many global scopes are there in a Python program? How many local scopes?\n",
    "\n",
    "There is only one global scope in a Python program and the scope remains until the program terminates. The variables defined \n",
    "globally can be used anywhere in the program.\n",
    "\n",
    "All the names assigned in a function def statement are locals by default and cannot be accessed outside of the function. \n",
    "There is no limit of the local scopes. The variables declared inside the function remains local."
   ]
  },
  {
   "cell_type": "code",
   "execution_count": null,
   "metadata": {},
   "outputs": [],
   "source": [
    "6. What happens to variables in a local scope when the function call returns?\n",
    "The local scope variables are destroyed when the function call returns."
   ]
  },
  {
   "cell_type": "code",
   "execution_count": null,
   "metadata": {},
   "outputs": [],
   "source": [
    "7. What is the concept of a return value? Is it possible to have a return value in an expression?\n",
    "The return statement consists of the keyword return followed by optional value to send the result of the function call \n",
    "back to its caller.\n",
    "\n",
    "Yes the return value can be a expression.(e.g return a+b)"
   ]
  },
  {
   "cell_type": "code",
   "execution_count": null,
   "metadata": {},
   "outputs": [],
   "source": [
    "8. If a function does not have a return statement, what is the return value of a call to that function?\n",
    "If a function does not have a explicit return statment, the return value is None"
   ]
  },
  {
   "cell_type": "code",
   "execution_count": null,
   "metadata": {},
   "outputs": [],
   "source": [
    "9. How do you make a function variable refer to the global variable?\n",
    "\n",
    "If a variable is declared outside a function, then it is a global variable.\n",
    "\n",
    "To refer the same variable inside a function and do some manipulation it has to be defined using the keyword global.\n",
    "\n",
    "If the global keyword is not used, any modifications to the variable inside a function will throw an UnboundLocalerror\n",
    "\n",
    "x = \"I am a global variable\"\n",
    "\n",
    "def x_fn():\n",
    "    global x #without this statement - gives Unbound Local Error\n",
    "    x +=\" Changed inside the function\"\n",
    "    return x\n",
    "\n",
    "x_fn()"
   ]
  },
  {
   "cell_type": "code",
   "execution_count": null,
   "metadata": {},
   "outputs": [],
   "source": [
    "10. What is the data type of None?\n",
    "The datatype of None is NoneType"
   ]
  },
  {
   "cell_type": "code",
   "execution_count": null,
   "metadata": {},
   "outputs": [],
   "source": [
    "11. What does the sentence import areallyourpetsnamederic do?\n",
    "\n",
    "The import statement with a valid package name imports all the modules in it. Invalid package name throws an error.\n",
    "\n",
    "The above import areallyourpetsnamederic statement throws the \"ModuleNotFoundError\"\n",
    "\n"
   ]
  },
  {
   "cell_type": "code",
   "execution_count": null,
   "metadata": {},
   "outputs": [],
   "source": [
    "12. If you had a bacon() feature in a spam module, what would you call it after importing spam?\n",
    "\n",
    "import spam as sp\n",
    "\n",
    "sp.bacon()\n",
    "\n",
    "(or)\n",
    "\n",
    "from spam import bacon\n",
    "\n",
    "bacon()"
   ]
  },
  {
   "cell_type": "code",
   "execution_count": null,
   "metadata": {
    "collapsed": true
   },
   "outputs": [],
   "source": [
    "13. What can you do to save a programme from crashing if it encounters an error?\n",
    "\n",
    "The program should be written to do proper exception handling using try, except block"
   ]
  },
  {
   "cell_type": "code",
   "execution_count": null,
   "metadata": {},
   "outputs": [],
   "source": [
    "14. What is the purpose of the try clause? What is the purpose of the except clause?\n",
    "\n",
    "The try block executes the statments in order and if there is any error encountered, the program control goes to the except \n",
    "part to handle the error and terminates it properly.\n",
    "\n",
    "try:\n",
    "    1/0\n",
    "except ZeroDivisionError as e:\n",
    "    print(e)\n",
    "    "
   ]
  }
 ],
 "metadata": {
  "kernelspec": {
   "display_name": "Python 3",
   "language": "python",
   "name": "python3"
  },
  "language_info": {
   "codemirror_mode": {
    "name": "ipython",
    "version": 3
   },
   "file_extension": ".py",
   "mimetype": "text/x-python",
   "name": "python",
   "nbconvert_exporter": "python",
   "pygments_lexer": "ipython3",
   "version": "3.7.0"
  }
 },
 "nbformat": 4,
 "nbformat_minor": 2
}
