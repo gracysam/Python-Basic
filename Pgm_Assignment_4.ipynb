{
 "cells": [
  {
   "cell_type": "code",
   "execution_count": 1,
   "metadata": {},
   "outputs": [
    {
     "name": "stdout",
     "output_type": "stream",
     "text": [
      "Enter a number to find its factorial: 6\n",
      "The factorial of 6 is 720\n"
     ]
    }
   ],
   "source": [
    "# Write a Python Program to Find the Factorial of a Number?\n",
    "\n",
    "def factorial(n):\n",
    "    a = 1\n",
    "    for i in range(1,n+1):\n",
    "        a =  a * i\n",
    "    return a\n",
    "n = int(input(\"Enter a number to find its factorial: \"))\n",
    "f = factorial(n)\n",
    "print(\"The factorial of {} is {}\".format(n,f))"
   ]
  },
  {
   "cell_type": "code",
   "execution_count": 2,
   "metadata": {},
   "outputs": [
    {
     "name": "stdout",
     "output_type": "stream",
     "text": [
      "Enter the number to print its multiplication tables(upto 10) : 8\n",
      "8 * 1 = 8\n",
      "8 * 2 = 16\n",
      "8 * 3 = 24\n",
      "8 * 4 = 32\n",
      "8 * 5 = 40\n",
      "8 * 6 = 48\n",
      "8 * 7 = 56\n",
      "8 * 8 = 64\n",
      "8 * 9 = 72\n",
      "8 * 10 = 80\n"
     ]
    }
   ],
   "source": [
    "# Write a Python Program to Display the multiplication Table?\n",
    "\n",
    "def mult_tables(n):\n",
    "    for i in range(1, 11):\n",
    "        m = n * i\n",
    "        print(\"{} * {} = {}\".format(n,i,m))\n",
    "\n",
    "n = int(input(\"Enter the number to print its multiplication tables(upto 10) : \"))\n",
    "\n",
    "mult_tables(n)"
   ]
  },
  {
   "cell_type": "code",
   "execution_count": 3,
   "metadata": {},
   "outputs": [
    {
     "data": {
      "text/plain": [
       "[0, 1, 1, 2, 3, 5, 8, 13]"
      ]
     },
     "execution_count": 3,
     "metadata": {},
     "output_type": "execute_result"
    }
   ],
   "source": [
    "#Write a Python Program to Print the Fibonacci sequence?\n",
    "#Fn = F(n-1) + F(n-2)\n",
    "\n",
    "#Using list\n",
    "\n",
    "def fib(n):\n",
    "    a = 0\n",
    "    b = 1\n",
    "    fib_seq = []\n",
    "    for i in range(n):\n",
    "        fib_seq.append(a)\n",
    "        a , b = b, a+b\n",
    "    return fib_seq\n",
    "\n",
    "fib(8)"
   ]
  },
  {
   "cell_type": "code",
   "execution_count": 4,
   "metadata": {},
   "outputs": [
    {
     "name": "stdout",
     "output_type": "stream",
     "text": [
      "0\n",
      "1\n",
      "1\n",
      "2\n",
      "3\n",
      "5\n",
      "8\n",
      "13\n"
     ]
    }
   ],
   "source": [
    "#Without list\n",
    "def fib_seq(n):\n",
    "    a = 0\n",
    "    b = 1\n",
    "    if n == 1:\n",
    "        print(a)\n",
    "    else:\n",
    "        print(a)\n",
    "        print(b)\n",
    "        for i in range(2,n):\n",
    "            c = a+b\n",
    "            a = b\n",
    "            b = c\n",
    "            print(c)\n",
    "            \n",
    "fib_seq(8)"
   ]
  },
  {
   "cell_type": "code",
   "execution_count": 5,
   "metadata": {},
   "outputs": [],
   "source": [
    "#Using generator\n",
    "def genfib(n):\n",
    "    a = 0\n",
    "    b = 1\n",
    "    for i in range(n):\n",
    "        yield a\n",
    "        a,b = b,a+b"
   ]
  },
  {
   "cell_type": "code",
   "execution_count": 6,
   "metadata": {},
   "outputs": [
    {
     "name": "stdout",
     "output_type": "stream",
     "text": [
      "0\n",
      "1\n",
      "1\n",
      "2\n",
      "3\n",
      "5\n",
      "8\n",
      "13\n"
     ]
    }
   ],
   "source": [
    "for i in genfib(8):\n",
    "    print(i)"
   ]
  },
  {
   "cell_type": "code",
   "execution_count": 7,
   "metadata": {},
   "outputs": [
    {
     "name": "stdout",
     "output_type": "stream",
     "text": [
      "Enter the number to find if its armstrong: 153\n",
      "It is an armstrong number\n"
     ]
    }
   ],
   "source": [
    "#Write a Python Program to Check Armstrong Number?\n",
    "\n",
    "# Without map function\n",
    "\n",
    "n = input(\"Enter the number to find if its armstrong: \")\n",
    "l = len(n)\n",
    "a = 0\n",
    "for i in range(l):\n",
    "    a = a + (int(n[i])**l)\n",
    "\n",
    "if int(n) == a:\n",
    "    print(\"It is an armstrong number\")\n",
    "else:\n",
    "    print(\"It is not armstrong number\")\n",
    "\n",
    "\n"
   ]
  },
  {
   "cell_type": "code",
   "execution_count": 8,
   "metadata": {},
   "outputs": [
    {
     "name": "stdout",
     "output_type": "stream",
     "text": [
      "Enter the number to find if its armstrong: 863\n",
      "It is not armstrong number\n"
     ]
    }
   ],
   "source": [
    "#Write a Python Program to Check Armstrong Number?\n",
    "\n",
    "def armstrong(n):\n",
    "    l = list(map(int, str(n)))\n",
    "    power = len(l)\n",
    "    a = 0\n",
    "    for i in range(power):\n",
    "        a = a + l[i] ** power\n",
    "    return a\n",
    "\n",
    "n = input(\"Enter the number to find if its armstrong: \")\n",
    "\n",
    "a = armstrong(n)\n",
    "\n",
    "if int(n) == a:\n",
    "    print(\"It is an armstrong number\")\n",
    "else:\n",
    "    print(\"It is not armstrong number\")\n"
   ]
  },
  {
   "cell_type": "code",
   "execution_count": 12,
   "metadata": {},
   "outputs": [
    {
     "name": "stdout",
     "output_type": "stream",
     "text": [
      "Enter the start interval: 0\n",
      "Enter the ending interval: 5000\n",
      "Below are the armstrong numbers between 0 and 5000 : \n",
      "\n",
      "0\n",
      "1\n",
      "2\n",
      "3\n",
      "4\n",
      "5\n",
      "6\n",
      "7\n",
      "8\n",
      "9\n",
      "153\n",
      "370\n",
      "371\n",
      "407\n",
      "1634\n"
     ]
    }
   ],
   "source": [
    "#Write a Python Program to Find Armstrong Number in an Interval?\n",
    "\n",
    "a =  int(input(\"Enter the start interval: \"))\n",
    "b = int(input(\"Enter the ending interval: \"))\n",
    "\n",
    "print(\"Below are the armstrong numbers between {} and {} : \\n\".format(a,b))\n",
    "\n",
    "for i in range(a, b):\n",
    "    \n",
    "    s = armstrong (i)\n",
    "   \n",
    "    if i == s:\n",
    "        print(i)\n",
    "    else:\n",
    "        continue\n",
    "\n"
   ]
  },
  {
   "cell_type": "code",
   "execution_count": null,
   "metadata": {},
   "outputs": [],
   "source": [
    "#Write a Python Program to Find the Sum of Natural Numbers?\n",
    "\n",
    "def summation(a,b):\n",
    "    if a >= 0 and b >= 0:\n",
    "        return a+b\n",
    "    else:\n",
    "        print(\"Either or both numbers are not natural numbers\")\n",
    "\n",
    "a = int(input(\"Enter the first addend: \"))\n",
    "b = int(input(\"Enter the second addend: \"))\n",
    "\n",
    "summation(a,b)"
   ]
  },
  {
   "cell_type": "code",
   "execution_count": null,
   "metadata": {},
   "outputs": [],
   "source": []
  }
 ],
 "metadata": {
  "kernelspec": {
   "display_name": "Python 3",
   "language": "python",
   "name": "python3"
  },
  "language_info": {
   "codemirror_mode": {
    "name": "ipython",
    "version": 3
   },
   "file_extension": ".py",
   "mimetype": "text/x-python",
   "name": "python",
   "nbconvert_exporter": "python",
   "pygments_lexer": "ipython3",
   "version": "3.7.0"
  }
 },
 "nbformat": 4,
 "nbformat_minor": 2
}
