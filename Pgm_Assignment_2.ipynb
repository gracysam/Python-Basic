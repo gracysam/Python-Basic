{
 "cells": [
  {
   "cell_type": "code",
   "execution_count": 2,
   "metadata": {},
   "outputs": [
    {
     "name": "stdout",
     "output_type": "stream",
     "text": [
      "Enter the kilometers: 10\n",
      "10  Kilometers is equal to 6.213699999999999 miles\n"
     ]
    }
   ],
   "source": [
    "#Write a Python program to convert kilometers to miles? \n",
    "\n",
    "def conv_km_to_miles(km):\n",
    "    miles = 0.62137 *  km\n",
    "    return miles\n",
    "\n",
    "km = int(input(\"Enter the kilometers: \"))\n",
    "miles = conv_km_to_miles(km)\n",
    "\n",
    "print(\"{}  Kilometers is equal to {} miles\". format(km, miles))"
   ]
  },
  {
   "cell_type": "code",
   "execution_count": 7,
   "metadata": {},
   "outputs": [
    {
     "name": "stdout",
     "output_type": "stream",
     "text": [
      "Enter the degree celsius: 32\n",
      "32  degree Celsius is equal to 89.6 degree Farenheit\n"
     ]
    }
   ],
   "source": [
    "#Write a Python program to convert Celsius to Fahrenheit?\n",
    "def conv_cel_to_faren(cel):\n",
    "    faren = (1.8 *  cel) + 32\n",
    "    return faren\n",
    "\n",
    "cel = int(input(\"Enter the degree celsius: \"))\n",
    "faren = conv_cel_to_faren(cel)\n",
    "\n",
    "print(\"{}  degree Celsius is equal to {} degree Farenheit\". format(cel, faren))"
   ]
  },
  {
   "cell_type": "code",
   "execution_count": 16,
   "metadata": {},
   "outputs": [
    {
     "name": "stdout",
     "output_type": "stream",
     "text": [
      "Enter the month between 1- 12: 10\n",
      "Enter the year: 2022\n",
      "    October 2022\n",
      "Mo Tu We Th Fr Sa Su\n",
      "                1  2\n",
      " 3  4  5  6  7  8  9\n",
      "10 11 12 13 14 15 16\n",
      "17 18 19 20 21 22 23\n",
      "24 25 26 27 28 29 30\n",
      "31\n",
      "\n"
     ]
    }
   ],
   "source": [
    "#Write a Python program to display calendar?\n",
    "\n",
    "import calendar\n",
    "\n",
    "def display_calendar(month, year):\n",
    "    print(calendar.month(year,month))\n",
    "    \n",
    "month = int(input(\"Enter the month between 1- 12: \"))\n",
    "year = int(input(\"Enter the year: \")) \n",
    "\n",
    "display_calendar(month, year)"
   ]
  },
  {
   "cell_type": "code",
   "execution_count": 20,
   "metadata": {},
   "outputs": [
    {
     "name": "stdout",
     "output_type": "stream",
     "text": [
      "Enter a (should not be 0): 1\n",
      "Enter b: 5\n",
      "Enter c: 6\n",
      "The solutions are (-2+0j) and (-3+0j): \n"
     ]
    }
   ],
   "source": [
    "#Write a Python program to solve quadratic equation?\n",
    "\n",
    "#Quadratic equation - ax**2 + bx + c = 0 where a,b,c are real numbers and a not equal to 0\n",
    "# x = (-b ± (b ** 2 - 4 * a * c) ** 0.5) / (2 * a)\n",
    "\n",
    "import cmath\n",
    "\n",
    "def quad_eqn(a,b,c):\n",
    "    d = b**2 - 4 * a * c\n",
    "    s1 = (-b + cmath.sqrt(d))/(2*a)\n",
    "    s2 = (-b - cmath.sqrt(d))/(2*a)\n",
    "    print(\"The solutions are {} and {}: \".format(s1,s2))\n",
    " \n",
    "a = int(input(\"Enter a (should not be 0): \"))\n",
    "b = int(input(\"Enter b: \"))\n",
    "c = int(input(\"Enter c: \"))\n",
    "quad_eqn(a,b,c)\n",
    "\n"
   ]
  },
  {
   "cell_type": "code",
   "execution_count": 25,
   "metadata": {},
   "outputs": [
    {
     "name": "stdout",
     "output_type": "stream",
     "text": [
      "Enter first number: 34\n",
      "Enter second number: 99\n",
      "Swapped numbers:  (99, 34)\n"
     ]
    }
   ],
   "source": [
    "#Write a Python program to swap two variables without temp variable?\n",
    "\n",
    "def swap_var(a,b):\n",
    "    a , b = b, a\n",
    "    return a,b\n",
    "\n",
    "a = int(input(\"Enter first number: \"))\n",
    "b = int(input(\"Enter second number: \"))\n",
    "res = swap_var(a,b)\n",
    "\n",
    "print(\"Swapped numbers: \", res)"
   ]
  }
 ],
 "metadata": {
  "kernelspec": {
   "display_name": "Python 3",
   "language": "python",
   "name": "python3"
  },
  "language_info": {
   "codemirror_mode": {
    "name": "ipython",
    "version": 3
   },
   "file_extension": ".py",
   "mimetype": "text/x-python",
   "name": "python",
   "nbconvert_exporter": "python",
   "pygments_lexer": "ipython3",
   "version": "3.7.0"
  }
 },
 "nbformat": 4,
 "nbformat_minor": 2
}
